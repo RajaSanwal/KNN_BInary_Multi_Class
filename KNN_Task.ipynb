{
  "nbformat": 4,
  "nbformat_minor": 0,
  "metadata": {
    "colab": {
      "name": "KNN_Task.ipynb",
      "provenance": []
    },
    "kernelspec": {
      "name": "python3",
      "display_name": "Python 3"
    },
    "language_info": {
      "name": "python"
    }
  },
  "cells": [
    {
      "cell_type": "code",
      "execution_count": null,
      "metadata": {
        "id": "QTb9lJ7yJFNo"
      },
      "outputs": [],
      "source": [
        "import numpy as np\n",
        "\n",
        "\n",
        "class KNearestNeighbors():\n",
        "    def __init__(self, X_train, y_train, n_neighbors, weights='uniform'):\n",
        "\n",
        "        self.X_train = X_train\n",
        "        self.y_train = y_train\n",
        "\n",
        "        self.n_neighbors = n_neighbors\n",
        "        self.weights = weights\n",
        "\n",
        "        self.n_classes = 3\n",
        "\n",
        "    def euclidian_distance(self, a, b):\n",
        "        return np.sqrt(np.sum((a - b)**2, axis=1))\n",
        "\n",
        "    def kneighbors(self, X_test, return_distance=False):\n",
        "\n",
        "        dist = []\n",
        "        neigh_ind = []\n",
        "\n",
        "        point_dist = [self.euclidian_distance(x_test, self.X_train) for x_test in X_test]\n",
        "\n",
        "        for row in point_dist:\n",
        "            enum_neigh = enumerate(row)\n",
        "            sorted_neigh = sorted(enum_neigh,\n",
        "                                  key=lambda x: x[1])[:self.n_neighbors]\n",
        "\n",
        "            ind_list = [tup[0] for tup in sorted_neigh]\n",
        "            dist_list = [tup[1] for tup in sorted_neigh]\n",
        "\n",
        "            dist.append(dist_list)\n",
        "            neigh_ind.append(ind_list)\n",
        "\n",
        "        if return_distance:\n",
        "            return np.array(dist), np.array(neigh_ind)\n",
        "\n",
        "        return np.array(neigh_ind)\n",
        "\n",
        "    def predict(self, X_test):\n",
        "\n",
        "        if self.weights == 'uniform':\n",
        "            neighbors = self.kneighbors(X_test)\n",
        "            y_pred = np.array([\n",
        "                np.argmax(np.bincount(self.y_train[neighbor]))\n",
        "                for neighbor in neighbors\n",
        "            ])\n",
        "\n",
        "            return y_pred\n",
        "\n",
        "        if self.weights == 'distance':\n",
        "\n",
        "            dist, neigh_ind = self.kneighbors(X_test, return_distance=True)\n",
        "\n",
        "            inv_dist = 1 / dist\n",
        "\n",
        "            mean_inv_dist = inv_dist / np.sum(inv_dist, axis=1)[:, np.newaxis]\n",
        "\n",
        "            proba = []\n",
        "\n",
        "            for i, row in enumerate(mean_inv_dist):\n",
        "\n",
        "                row_pred = self.y_train[neigh_ind[i]]\n",
        "\n",
        "                for k in range(self.n_classes):\n",
        "                    indices = np.where(row_pred == k)\n",
        "                    prob_ind = np.sum(row[indices])\n",
        "                    proba.append(np.array(prob_ind))\n",
        "\n",
        "            predict_proba = np.array(proba).reshape(X_test.shape[0],\n",
        "                                                    self.n_classes)\n",
        "\n",
        "            y_pred = np.array([np.argmax(item) for item in predict_proba])\n",
        "\n",
        "            return y_pred\n",
        "\n",
        "    def score(self, X_test, y_test):\n",
        "        y_pred = self.predict(X_test)\n",
        "        acc = float(sum(y_pred == y_test)) / float(len(y_test))\n",
        "        return acc, y_pred"
      ]
    },
    {
      "cell_type": "code",
      "source": [
        "def read_data(filePath):\n",
        "\n",
        "    with open(filePath, \"r\") as f:\n",
        "        data = f.readlines()\n",
        "    f.close()\n",
        "\n",
        "    data = [d[:-1] for d in data]\n",
        "\n",
        "    features_index = [1,2,3,4]\n",
        "    features = []\n",
        "    labels = []\n",
        "    updated_features = []\n",
        "    for d in data:\n",
        "        label = d.split(' ')[0]\n",
        "        labels.append(int(label))\n",
        "        nums = [p.split(':')[-1] for p in d.split(' ')[1:]]\n",
        "        index = [q.split(':')[0] for q in d.split(' ')[1:]]\n",
        "        feature = [float(n) for n in nums if n]\n",
        "        indexes = [int(i) for i in index if i]\n",
        "        for j in range(len(features_index)):\n",
        "            if indexes[j] != features_index[j]:\n",
        "                feature.insert(j,0)\n",
        "                indexes.insert(j,0)\n",
        "        features.append(feature)\n",
        "    features = np.vstack(features)\n",
        "    labels = np.array(labels)\n",
        "\n",
        "    for x in features:\n",
        "        new = np.where(x==0, np.mean(features[:,1]),x)\n",
        "        updated_features.append(new)\n",
        "\n",
        "    return np.array(updated_features), labels"
      ],
      "metadata": {
        "id": "_rsTZ-R3iKvS"
      },
      "execution_count": null,
      "outputs": []
    },
    {
      "cell_type": "code",
      "source": [
        "#Preparing the data\n",
        "trainDataPath = \"/content/iris_dataset.txt\"\n",
        "\n",
        "X,y = read_data(trainDataPath)\n",
        "# x_test,y_test = read_data(testDataPath)"
      ],
      "metadata": {
        "id": "3DgjNEQDim4q"
      },
      "execution_count": null,
      "outputs": []
    },
    {
      "cell_type": "code",
      "source": [
        "from sklearn.model_selection import train_test_split\n",
        "\n",
        "mu = np.mean(X, 0)\n",
        "sigma = np.std(X, 0)\n",
        "X = (X - mu ) / sigma"
      ],
      "metadata": {
        "id": "AnxvJNVEdj6b"
      },
      "execution_count": null,
      "outputs": []
    },
    {
      "cell_type": "code",
      "source": [
        "print(X.shape)\n",
        "print(y.shape)"
      ],
      "metadata": {
        "colab": {
          "base_uri": "https://localhost:8080/"
        },
        "id": "ZJ9O4gTGlzUe",
        "outputId": "e76b2a30-a768-4da9-9739-66d0d0f2191d"
      },
      "execution_count": null,
      "outputs": [
        {
          "output_type": "stream",
          "name": "stdout",
          "text": [
            "(150, 4)\n",
            "(150,)\n"
          ]
        }
      ]
    },
    {
      "cell_type": "code",
      "source": [
        "classifier = KNearestNeighbors(X, y, n_neighbors=9)"
      ],
      "metadata": {
        "id": "S9ypnty9elfS"
      },
      "execution_count": null,
      "outputs": []
    },
    {
      "cell_type": "code",
      "source": [
        "X_train, X_test, y_train, y_test = train_test_split(X, y, test_size=0.3, random_state=45)"
      ],
      "metadata": {
        "id": "P6LvHT4kexou"
      },
      "execution_count": null,
      "outputs": []
    },
    {
      "cell_type": "code",
      "source": [
        "accuracy, predicted_labels = classifier.score(X_test, y_test)\n",
        "accuracy"
      ],
      "metadata": {
        "colab": {
          "base_uri": "https://localhost:8080/"
        },
        "id": "yhxRUzIXe7Vp",
        "outputId": "27613097-f384-4e78-922b-138eefa17184"
      },
      "execution_count": null,
      "outputs": [
        {
          "output_type": "execute_result",
          "data": {
            "text/plain": [
              "0.9555555555555556"
            ]
          },
          "metadata": {},
          "execution_count": 27
        }
      ]
    },
    {
      "cell_type": "code",
      "source": [
        "import seaborn as sns\n",
        "import matplotlib.pyplot as plt\n",
        "plt.figure(figsize=(15,8))\n",
        "palette1 ={1: \"C0\", 2: \"C1\", 3: \"C2\"}\n",
        "ax = sns.scatterplot(X_train[:,0], X_train[:, 1], hue=y_train, palette=palette1, marker=\"o\", s=100, alpha=0.4)\n",
        "sns.scatterplot(X_test[:,0], X_test[:, 1], hue=predicted_labels, palette=palette1, marker=\"o\", s=100)\n",
        "plt.title(\"Dark Color:Test Data, Light Color:Train Data\")\n",
        "plt.show()"
      ],
      "metadata": {
        "colab": {
          "base_uri": "https://localhost:8080/",
          "height": 590
        },
        "id": "tw_z14cnfSyN",
        "outputId": "fda39733-9a99-480c-c1fc-0b97bc1c11f7"
      },
      "execution_count": null,
      "outputs": [
        {
          "output_type": "stream",
          "name": "stderr",
          "text": [
            "/usr/local/lib/python3.7/dist-packages/seaborn/_decorators.py:43: FutureWarning: Pass the following variables as keyword args: x, y. From version 0.12, the only valid positional argument will be `data`, and passing other arguments without an explicit keyword will result in an error or misinterpretation.\n",
            "  FutureWarning\n",
            "/usr/local/lib/python3.7/dist-packages/seaborn/_decorators.py:43: FutureWarning: Pass the following variables as keyword args: x, y. From version 0.12, the only valid positional argument will be `data`, and passing other arguments without an explicit keyword will result in an error or misinterpretation.\n",
            "  FutureWarning\n"
          ]
        },
        {
          "output_type": "execute_result",
          "data": {
            "text/plain": [
              "<matplotlib.axes._subplots.AxesSubplot at 0x7f3219fed750>"
            ]
          },
          "metadata": {},
          "execution_count": 54
        },
        {
          "output_type": "display_data",
          "data": {
            "image/png": "[encoded data removed]",
            "text/plain": [
              "<Figure size 1080x576 with 1 Axes>"
            ]
          },
          "metadata": {
            "needs_background": "light"
          }
        }
      ]
    },
    {
      "cell_type": "code",
      "source": [
        "\n",
        "\n",
        "\n",
        "\n",
        "\n",
        "palette ={1: \"C0\", 2: \"C1\", 3: \"C2\"}\n",
        "sns.scatterplot(X_train[:,0], X_train[:, 1], hue=y_train, palette=palette)\n",
        "plt.show()"
      ],
      "metadata": {
        "colab": {
          "base_uri": "https://localhost:8080/",
          "height": 320
        },
        "id": "pXKArflJk-qz",
        "outputId": "e400eb3a-d689-4ff5-be07-f0aab423ab62"
      },
      "execution_count": null,
      "outputs": [
        {
          "output_type": "stream",
          "name": "stderr",
          "text": [
            "/usr/local/lib/python3.7/dist-packages/seaborn/_decorators.py:43: FutureWarning: Pass the following variables as keyword args: x, y. From version 0.12, the only valid positional argument will be `data`, and passing other arguments without an explicit keyword will result in an error or misinterpretation.\n",
            "  FutureWarning\n"
          ]
        },
        {
          "output_type": "display_data",
          "data": {
            "image/png": "[encoded data removed]",
            "text/plain": [
              "<Figure size 432x288 with 1 Axes>"
            ]
          },
          "metadata": {
            "needs_background": "light"
          }
        }
      ]
    },
    {
      "cell_type": "code",
      "source": [
        ""
      ],
      "metadata": {
        "id": "IxRcNAS-mTEA"
      },
      "execution_count": null,
      "outputs": []
    }
  ]
}